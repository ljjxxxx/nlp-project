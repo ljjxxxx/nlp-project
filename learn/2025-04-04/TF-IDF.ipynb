{
 "cells": [
  {
   "cell_type": "markdown",
   "metadata": {},
   "source": [
    "# TF-IDF"
   ]
  },
  {
   "cell_type": "markdown",
   "metadata": {},
   "source": [
    "TF-IDF (Term Frequency-Inverse Document Frequency) is a statistical method used to evaluate the importance of a word in a doucment within a corpus. It is widely applied in information retrieval, text mining, and natural language processing. The core idea is: **a word that appears frequently in a document (high TF) but rarely across the corpus (high IDF) is more significant to that document**."
   ]
  },
  {
   "cell_type": "markdown",
   "metadata": {},
   "source": [
    "### Calculation Steps"
   ]
  },
  {
   "cell_type": "markdown",
   "metadata": {},
   "source": [
    "1. Term Frequency (TF):\n",
    "$$\\text{TF}(t, d) = \\frac{\\text{Number of times term } t \\text{ appears in document } d}{\\text{Total terms in document } d}$$"
   ]
  },
  {
   "cell_type": "markdown",
   "metadata": {},
   "source": [
    "2. Inverse Document Frequency (IDF):\n",
    "$$\\text{IDF}(t, D) = \\log \\left( \\frac{\\text{Total number of documents in the corpus } D}{\\text{Number of documents containing term } t + 1} \\right)$$"
   ]
  },
  {
   "cell_type": "markdown",
   "metadata": {},
   "source": [
    "3. TF-IDF Value:\n",
    "$$\\text{TF-IDF}(t, d, D) = \\text{TF}(t, d) \\times \\text{IDF}(t, D)$$"
   ]
  },
  {
   "cell_type": "markdown",
   "source": [
    "### Pros and Cons\n",
    "#### Pros\n",
    "* Simple, fast, and efficient\n",
    "* Filters common words (e.g., \"the\", \"is\") and highlights meaningful terms.\n",
    "\n",
    "#### Cons\n",
    "* Ignores word position, semantics, and context.\n",
    "* May dilute term importance in long documents (requires normalization).\n",
    "* Fails to handler synonyms and polysemy (e.g. \"bank\" as a riverbank vs. a financial institution)."
   ],
   "metadata": {
    "collapsed": false
   }
  }
 ],
 "metadata": {
  "language_info": {
   "name": "python"
  },
  "kernelspec": {
   "name": "python3",
   "language": "python",
   "display_name": "Python 3 (ipykernel)"
  }
 },
 "nbformat": 4,
 "nbformat_minor": 2
}
