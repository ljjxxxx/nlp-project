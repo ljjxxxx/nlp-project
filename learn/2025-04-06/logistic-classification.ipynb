{
 "cells": [
  {
   "cell_type": "markdown",
   "source": [
    "# Logistic classification"
   ],
   "metadata": {
    "collapsed": false
   },
   "id": "99efb56a92dcac7a"
  },
  {
   "cell_type": "code",
   "outputs": [
    {
     "name": "stdout",
     "output_type": "stream",
     "text": [
      "Epoch [20/200], Loss: 0.0699\n",
      "Epoch [40/200], Loss: 0.0623\n",
      "Epoch [60/200], Loss: 0.0580\n",
      "Epoch [80/200], Loss: 0.0545\n",
      "Epoch [100/200], Loss: 0.0519\n",
      "Epoch [120/200], Loss: 0.0501\n",
      "Epoch [140/200], Loss: 0.0488\n",
      "Epoch [160/200], Loss: 0.0476\n",
      "Epoch [180/200], Loss: 0.0465\n",
      "Epoch [200/200], Loss: 0.0455\n",
      "\n",
      "Test Accuracy: 98.25%\n"
     ]
    }
   ],
   "source": [
    "import torch\n",
    "import torch.nn as nn\n",
    "import torch.optim as optim\n",
    "from sklearn.datasets import load_breast_cancer\n",
    "from sklearn.model_selection import train_test_split\n",
    "from sklearn.preprocessing import StandardScaler\n",
    "\n",
    "# Load data and preprocessing\n",
    "data = load_breast_cancer()\n",
    "X = data.data\n",
    "y = data.target.reshape(-1, 1)  # Convert to column vectors\n",
    "\n",
    "# Divide the training set and test set\n",
    "X_train, X_test, y_train, y_test = train_test_split(\n",
    "    X, y, test_size=0.2, random_state=42\n",
    ")\n",
    "\n",
    "# Data standardization\n",
    "scaler = StandardScaler()\n",
    "X_train = scaler.fit_transform(X_train)     # Calculate the mean, standard deviation, and convert\n",
    "X_test = scaler.transform(X_test)       # Use the mean and standard deviation calculated above\n",
    "\n",
    "# Convert to tensor\n",
    "X_train = torch.tensor(X_train, dtype=torch.float32)\n",
    "X_test = torch.tensor(X_test, dtype=torch.float32)\n",
    "y_train = torch.tensor(y_train, dtype=torch.float32)\n",
    "y_test = torch.tensor(y_test, dtype=torch.float32)\n",
    "\n",
    "# Define model\n",
    "class LogisticRegression(nn.Module):\n",
    "    def __init__(self, input_dim):\n",
    "        super(LogisticRegression, self).__init__()\n",
    "        self.linear = nn.Linear(input_dim, 1)\n",
    "    \n",
    "    def forward(self, x):\n",
    "        return self.linear(x)\n",
    "\n",
    "# Init model\n",
    "input_dim = X_train.shape[1]\n",
    "model = LogisticRegression(input_dim)\n",
    "\n",
    "# Define loss function and optimizer\n",
    "criterion = nn.BCEWithLogitsLoss()\n",
    "optimizer = optim.Adam(model.parameters(), lr=0.1)  # alpha is 0.1\n",
    "\n",
    "# Train model\n",
    "epochs = 200\n",
    "for epoch in range(epochs):\n",
    "    # Forward propagation\n",
    "    outputs = model(X_train)\n",
    "    loss = criterion(outputs, y_train)\n",
    "    \n",
    "    # Backward propagation\n",
    "    optimizer.zero_grad()\n",
    "    loss.backward()\n",
    "    optimizer.step()\n",
    "    \n",
    "    # Print loss\n",
    "    if (epoch + 1) % 20 == 0:\n",
    "        print(f\"Epoch [{epoch+1}/{epochs}], Loss: {loss.item():.4f}\")\n",
    "\n",
    "# Evaluate model\n",
    "with torch.no_grad():       # No gradient calculation\n",
    "    y_pred = model(X_test)\n",
    "    y_prob = torch.sigmoid(y_pred)  # Sigmoid \n",
    "    y_class = (y_prob > 0.5).float() \n",
    "    \n",
    "    # Calculate accuracy\n",
    "    accuracy = (y_class == y_test).float().mean()\n",
    "    print(f\"\\nTest Accuracy: {accuracy.item()*100:.2f}%\")"
   ],
   "metadata": {
    "collapsed": false,
    "ExecuteTime": {
     "end_time": "2025-04-06T06:19:27.504012Z",
     "start_time": "2025-04-06T06:19:25.229494Z"
    }
   },
   "id": "8d43309c1ca0d6de",
   "execution_count": 1
  }
 ],
 "metadata": {
  "kernelspec": {
   "display_name": "Python 3",
   "language": "python",
   "name": "python3"
  },
  "language_info": {
   "codemirror_mode": {
    "name": "ipython",
    "version": 2
   },
   "file_extension": ".py",
   "mimetype": "text/x-python",
   "name": "python",
   "nbconvert_exporter": "python",
   "pygments_lexer": "ipython2",
   "version": "2.7.6"
  }
 },
 "nbformat": 4,
 "nbformat_minor": 5
}
