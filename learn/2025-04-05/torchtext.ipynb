{
 "cells": [
  {
   "cell_type": "markdown",
   "source": [
    "# torchtext\n",
    "\n",
    "Here is an example of using torchtext to process IMDB dataset."
   ],
   "metadata": {
    "collapsed": false
   },
   "id": "b282b85c96d45b6e"
  },
  {
   "cell_type": "code",
   "outputs": [
    {
     "name": "stdout",
     "output_type": "stream",
     "text": [
      "The size of vocab: 40252\n",
      "Label shape: torch.Size([64])\n",
      "Text shape: torch.Size([64, 1256])\n"
     ]
    }
   ],
   "source": [
    "import torch\n",
    "from torchtext.datasets import IMDB\n",
    "from torchtext.data.utils import get_tokenizer\n",
    "from torchtext.vocab import build_vocab_from_iterator\n",
    "from torch.utils.data import DataLoader, random_split\n",
    "from torch.nn.utils.rnn import pad_sequence\n",
    "\n",
    "# Load data, convert to list\n",
    "train_data = list(IMDB(split='train'))\n",
    "test_data = list(IMDB(split='test'))\n",
    "\n",
    "# Define tokenizer\n",
    "tokenizer = get_tokenizer('basic_english')\n",
    "\n",
    "# Construct vocab\n",
    "def yield_tokens(data):\n",
    "    for label, text in data:\n",
    "        yield tokenizer(text.lower())  # Convert to lowercase\n",
    "\n",
    "vocab = build_vocab_from_iterator(\n",
    "    yield_tokens(train_data),\n",
    "    specials=['<unk>', '<pad>'],  # special symbol\n",
    "    min_freq=3  # Filter low-frequency words\n",
    ")\n",
    "vocab.set_default_index(vocab['<unk>'])  # Default index\n",
    "# print(vocab([\"this\", \"is\", \"me\"]))\n",
    "\n",
    "# Define data processing pipeline\n",
    "text_pipeline = lambda x: vocab(tokenizer(x.lower()))\n",
    "label_pipeline = lambda x: 1 if x == 'pos' else 0\n",
    "\n",
    "# Define batch processing function\n",
    "def collate_batch(batch):\n",
    "    labels, texts = [], []\n",
    "    for (label, text) in batch:\n",
    "        labels.append(label_pipeline(label))\n",
    "        texts.append(torch.tensor(text_pipeline(text), dtype=torch.int64))\n",
    "    \n",
    "    # Fill text\n",
    "    texts = pad_sequence(texts, batch_first=True, padding_value=vocab['<pad>'])\n",
    "    labels = torch.tensor(labels, dtype=torch.int64)\n",
    "    return labels, texts\n",
    "\n",
    "# Split train set and val set\n",
    "train_split, val_split = random_split(\n",
    "    train_data, \n",
    "    [len(train_data) - 5000, 5000],\n",
    "    generator=torch.Generator().manual_seed(42)     # Random seed\n",
    ")\n",
    "\n",
    "# Create DataLoader\n",
    "batch_size = 64\n",
    "train_loader = DataLoader(train_split, batch_size=batch_size, \n",
    "                         shuffle=True, collate_fn=collate_batch)\n",
    "val_loader = DataLoader(val_split, batch_size=batch_size,\n",
    "                       shuffle=False, collate_fn=collate_batch)\n",
    "test_loader = DataLoader(test_data, batch_size=batch_size,\n",
    "                        shuffle=False, collate_fn=collate_batch)\n",
    "\n",
    "# Example\n",
    "print(f\"The size of vocab: {len(vocab)}\")\n",
    "sample_batch = next(iter(train_loader))\n",
    "print(f\"Label shape: {sample_batch[0].shape}\")\n",
    "print(f\"Text shape: {sample_batch[1].shape}\")"
   ],
   "metadata": {
    "collapsed": false,
    "ExecuteTime": {
     "end_time": "2025-04-05T11:57:03.401033Z",
     "start_time": "2025-04-05T11:57:00.410711Z"
    }
   },
   "id": "d9f6768f593f2f4b",
   "execution_count": 13
  },
  {
   "cell_type": "code",
   "outputs": [
    {
     "name": "stdout",
     "output_type": "stream",
     "text": [
      "PyTorch: 1.13.1\n",
      "TorchText: 0.14.1\n",
      "TorchData: 0.5.1\n"
     ]
    }
   ],
   "source": [
    "import torch, torchtext, torchdata\n",
    "print(f\"PyTorch: {torch.__version__}\")       # 1.13.1\n",
    "print(f\"TorchText: {torchtext.__version__}\") # 0.14.1\n",
    "print(f\"TorchData: {torchdata.__version__}\") # 0.5.1"
   ],
   "metadata": {
    "collapsed": false,
    "ExecuteTime": {
     "end_time": "2025-04-05T09:39:38.646963Z",
     "start_time": "2025-04-05T09:39:37.550613Z"
    }
   },
   "id": "e6f30eb852408c81",
   "execution_count": 6
  }
 ],
 "metadata": {
  "kernelspec": {
   "display_name": "Python 3",
   "language": "python",
   "name": "python3"
  },
  "language_info": {
   "codemirror_mode": {
    "name": "ipython",
    "version": 2
   },
   "file_extension": ".py",
   "mimetype": "text/x-python",
   "name": "python",
   "nbconvert_exporter": "python",
   "pygments_lexer": "ipython2",
   "version": "2.7.6"
  }
 },
 "nbformat": 4,
 "nbformat_minor": 5
}
