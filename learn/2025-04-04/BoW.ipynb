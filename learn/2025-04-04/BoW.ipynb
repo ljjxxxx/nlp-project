{
 "cells": [
  {
   "cell_type": "markdown",
   "metadata": {},
   "source": [
    "# Bag of Words(BoW) Model Explained"
   ]
  },
  {
   "cell_type": "markdown",
   "metadata": {},
   "source": [
    "The **Bag of Words(BoW)** model is a foundational technique in natural language processing(NLP) for representing text data. It simplifies text into an unordered collection of words, disregarding grammar, syntax, and word order, while focusing on word occurrences."
   ]
  },
  {
   "cell_type": "markdown",
   "metadata": {},
   "source": [
    "1. **Core Concept**\n",
    "* BoW treats text as a \"bag\"(multiset) of words. Only the presence or frequency of words is considered, not their positions."
   ]
  },
  {
   "cell_type": "markdown",
   "metadata": {},
   "source": [
    "2. **Implementation Steps**\n",
    "* **Tokenization**: Split text into individual words/tokens(requires segmentation for languages like Chinese).\n",
    "* **Build Vocabulary**: Collect all unique words from the corpus and assign each an index.\n",
    "* **Vectorization**:\n",
    "    * **Frequency-based**: Count occurrences of each word in a document.\n",
    "    * **Binary**: Mark presence (1) or absence (0) of words.\n",
    "    * **TF-IDF**: Adjust word frequency to reflect importance(downweights common words)."
   ]
  },
  {
   "cell_type": "markdown",
   "metadata": {},
   "source": [
    "3. **Pros and Cons**\n",
    "* Advantages:\n",
    "    * Simple, fast, and memory-efficient.\n",
    "    * Works well for tasks like text classification and sentiment analysis.\n",
    "* Limitations:\n",
    "    * Ignores word order and context, losing semantic meaning.\n",
    "    * High-dimensional sparse vectors(problematic for large vocabularies).\n",
    "    * Fails to handle out-of-vocabulary(OOV) words."
   ]
  },
  {
   "cell_type": "code",
   "execution_count": 1,
   "metadata": {
    "ExecuteTime": {
     "end_time": "2025-04-04T07:38:23.375564Z",
     "start_time": "2025-04-04T07:38:23.290630Z"
    }
   },
   "outputs": [
    {
     "name": "stdout",
     "output_type": "stream",
     "text": [
      "分词结果： [['我', '喜欢', '编程，编程', '是', '一门', '有趣的技术'], ['我', '喜欢', '旅游，旅游', '可以', '放松', '心情'], ['编程', '和', '旅游', '都是', '我的', '爱好']]\n",
      "词典： ['一门', '可以', '和', '喜欢', '心情', '我', '我的', '放松', '旅游', '旅游，旅游', '是', '有趣的技术', '爱好', '编程', '编程，编程', '都是']\n",
      "向量化结果：\n",
      " [[1. 0. 0. 1. 0. 1. 0. 0. 0. 0. 1. 1. 0. 0. 1. 0.]\n",
      " [0. 1. 0. 1. 1. 1. 0. 1. 0. 1. 0. 0. 0. 0. 0. 0.]\n",
      " [0. 0. 1. 0. 0. 0. 1. 0. 1. 0. 0. 0. 1. 1. 0. 1.]]\n"
     ]
    }
   ],
   "source": [
    "import numpy as np\n",
    "\n",
    "# 示例文本数据\n",
    "documents = [\n",
    "    '我 喜欢 编程，编程 是 一门 有趣的技术',\n",
    "    '我 喜欢 旅游，旅游 可以 放松 心情',\n",
    "    '编程 和 旅游 都是 我的 爱好'\n",
    "]\n",
    "\n",
    "\n",
    "# 分词\n",
    "def tokenize(documents):\n",
    "    tokenized_documents = [doc.split() for doc in documents]\n",
    "    return tokenized_documents\n",
    "\n",
    "\n",
    "# 建立词典\n",
    "def build_vocabulary(tokenized_documents):\n",
    "    vocabulary = set()\n",
    "    for doc in tokenized_documents:\n",
    "        vocabulary.update(doc)\n",
    "    return sorted(vocabulary)\n",
    "\n",
    "\n",
    "# 向量化\n",
    "def vectorize(tokenized_documents, vocabulary):\n",
    "    vectors = np.zeros((len(tokenized_documents), len(vocabulary)))\n",
    "    for i, doc in enumerate(tokenized_documents):\n",
    "        for word in doc:\n",
    "            vectors[i, vocabulary.index(word)] += 1\n",
    "    return vectors\n",
    "\n",
    "\n",
    "# 分词示例\n",
    "tokenized_documents = tokenize(documents)\n",
    "print('分词结果：', tokenized_documents)\n",
    "\n",
    "# 建立词典示例\n",
    "vocabulary = build_vocabulary(tokenized_documents)\n",
    "print('词典：', vocabulary)\n",
    "\n",
    "# 向量化示例\n",
    "vectors = vectorize(tokenized_documents, vocabulary)\n",
    "print('向量化结果：\\n', vectors)"
   ]
  }
 ],
 "metadata": {
  "kernelspec": {
   "display_name": "jupyter-notebook",
   "language": "python",
   "name": "python3"
  },
  "language_info": {
   "codemirror_mode": {
    "name": "ipython",
    "version": 3
   },
   "file_extension": ".py",
   "mimetype": "text/x-python",
   "name": "python",
   "nbconvert_exporter": "python",
   "pygments_lexer": "ipython3",
   "version": "3.9.18"
  }
 },
 "nbformat": 4,
 "nbformat_minor": 2
}
