{
 "cells": [
  {
   "cell_type": "markdown",
   "source": [
    "# CNN (Convolutional Neural Network)"
   ],
   "metadata": {
    "collapsed": false
   },
   "id": "3cc1b2f81ca9f7b4"
  },
  {
   "cell_type": "markdown",
   "source": [
    "## Core Architecture\n",
    "1. Convolutional Layer\n",
    "* Function: Extracts features via filters, producing feature maps.\n",
    "* Operation: Element-wise multiplication between filter weights and input regions, followed by activation.\n",
    "2. Pooling Layer\n",
    "* Function: Down samples feature maps to reduce dimensionality and prevent overfitting.\n",
    "* Methods: Max pooling (selects maximum value) or average pooling (computes regional average).\n",
    "3. Fully connected Layer\n",
    "* Function: Maps high-level features to output labels (e.g., classification).\n",
    "* Position: Typically at the network's end."
   ],
   "metadata": {
    "collapsed": false
   },
   "id": "4aef365be0b13349"
  },
  {
   "cell_type": "code",
   "outputs": [
    {
     "name": "stdout",
     "output_type": "stream",
     "text": [
      "2.0.1\n",
      "0.5.1\n"
     ]
    }
   ],
   "source": [
    "import torch\n",
    "import torchdata\n",
    "print(torch.__version__)\n",
    "print(torchdata.__version__)"
   ],
   "metadata": {
    "collapsed": false,
    "ExecuteTime": {
     "end_time": "2025-04-06T06:02:31.288871Z",
     "start_time": "2025-04-06T06:02:30.130310Z"
    }
   },
   "id": "ec0c29323dca3844",
   "execution_count": 1
  },
  {
   "cell_type": "code",
   "outputs": [
    {
     "name": "stdout",
     "output_type": "stream",
     "text": [
      "Files already downloaded and verified\n",
      "Files already downloaded and verified\n",
      "Epoch [1/5], Step [100/782], Loss: 1.6158\n",
      "Epoch [1/5], Step [200/782], Loss: 1.2451\n",
      "Epoch [1/5], Step [300/782], Loss: 1.4432\n",
      "Epoch [1/5], Step [400/782], Loss: 1.4878\n",
      "Epoch [1/5], Step [500/782], Loss: 1.4096\n",
      "Epoch [1/5], Step [600/782], Loss: 1.2399\n",
      "Epoch [1/5], Step [700/782], Loss: 1.0525\n",
      "Epoch [2/5], Step [100/782], Loss: 1.1116\n",
      "Epoch [2/5], Step [200/782], Loss: 1.1358\n",
      "Epoch [2/5], Step [300/782], Loss: 1.1427\n",
      "Epoch [2/5], Step [400/782], Loss: 1.0619\n",
      "Epoch [2/5], Step [500/782], Loss: 0.9216\n",
      "Epoch [2/5], Step [600/782], Loss: 1.0173\n",
      "Epoch [2/5], Step [700/782], Loss: 0.8095\n",
      "Epoch [3/5], Step [100/782], Loss: 0.8400\n",
      "Epoch [3/5], Step [200/782], Loss: 0.8372\n",
      "Epoch [3/5], Step [300/782], Loss: 0.8566\n",
      "Epoch [3/5], Step [400/782], Loss: 0.7306\n",
      "Epoch [3/5], Step [500/782], Loss: 0.9003\n",
      "Epoch [3/5], Step [600/782], Loss: 0.8303\n",
      "Epoch [3/5], Step [700/782], Loss: 0.7791\n",
      "Epoch [4/5], Step [100/782], Loss: 0.7870\n",
      "Epoch [4/5], Step [200/782], Loss: 0.6492\n",
      "Epoch [4/5], Step [300/782], Loss: 0.7184\n",
      "Epoch [4/5], Step [400/782], Loss: 0.7545\n",
      "Epoch [4/5], Step [500/782], Loss: 0.6713\n",
      "Epoch [4/5], Step [600/782], Loss: 0.6690\n",
      "Epoch [4/5], Step [700/782], Loss: 0.6528\n",
      "Epoch [5/5], Step [100/782], Loss: 0.5571\n",
      "Epoch [5/5], Step [200/782], Loss: 0.4991\n",
      "Epoch [5/5], Step [300/782], Loss: 0.5962\n",
      "Epoch [5/5], Step [400/782], Loss: 0.5359\n",
      "Epoch [5/5], Step [500/782], Loss: 0.8400\n",
      "Epoch [5/5], Step [600/782], Loss: 0.4742\n",
      "Epoch [5/5], Step [700/782], Loss: 0.6177\n",
      "Test Accuracy: 70.17%\n"
     ]
    }
   ],
   "source": [
    "import torch\n",
    "import torch.nn as nn\n",
    "import torchvision\n",
    "import torchvision.transforms as transforms\n",
    "\n",
    "# 超参数设置\n",
    "batch_size = 64\n",
    "num_epochs = 5\n",
    "learning_rate = 0.001\n",
    "\n",
    "# 数据预处理（以CIFAR-10为例）\n",
    "transform = transforms.Compose([\n",
    "    transforms.ToTensor(),  # 转为Tensor [0,1]\n",
    "    transforms.Normalize((0.5, 0.5, 0.5), (0.5, 0.5, 0.5))  # 归一化到[-1,1]\n",
    "])\n",
    "\n",
    "# 加载数据集\n",
    "train_dataset = torchvision.datasets.CIFAR10(\n",
    "    root='./data', train=True, download=True, transform=transform)\n",
    "test_dataset = torchvision.datasets.CIFAR10(\n",
    "    root='./data', train=False, download=True, transform=transform)\n",
    "\n",
    "train_loader = torch.utils.data.DataLoader(\n",
    "    train_dataset, batch_size=batch_size, shuffle=True)\n",
    "test_loader = torch.utils.data.DataLoader(\n",
    "    test_dataset, batch_size=batch_size, shuffle=False)\n",
    "\n",
    "# 定义CNN模型\n",
    "class SimpleCNN(nn.Module):\n",
    "    def __init__(self, num_classes=10):\n",
    "        super(SimpleCNN, self).__init__()\n",
    "        \n",
    "        # 卷积层1: 输入3通道，输出16通道，卷积核3x3\n",
    "        self.conv1 = nn.Conv2d(3, 16, kernel_size=3, stride=1, padding=1)\n",
    "        # ReLU激活\n",
    "        self.relu = nn.ReLU()\n",
    "        # 最大池化层1: 2x2窗口，步长2\n",
    "        self.pool = nn.MaxPool2d(kernel_size=2, stride=2)\n",
    "        \n",
    "        # 卷积层2: 输入16通道，输出32通道，卷积核3x3\n",
    "        self.conv2 = nn.Conv2d(16, 32, kernel_size=3, stride=1, padding=1)\n",
    "        \n",
    "        # 全连接层1: 输入32 * 8 * 8（计算见下方forward），输出512\n",
    "        self.fc1 = nn.Linear(32 * 8 * 8, 512)\n",
    "        # 全连接层2: 输出10类（CIFAR-10）\n",
    "        self.fc2 = nn.Linear(512, num_classes)\n",
    "        \n",
    "    def forward(self, x):\n",
    "        # 输入x维度: [batch_size, 3, 32, 32]\n",
    "        \n",
    "        # 卷积层1 → ReLU → 池化\n",
    "        x = self.conv1(x)  # 输出维度: [batch_size, 16, 32, 32]\n",
    "        x = self.relu(x)\n",
    "        x = self.pool(x)   # 输出维度: [batch_size, 16, 16, 16]\n",
    "        \n",
    "        # 卷积层2 → ReLU → 池化\n",
    "        x = self.conv2(x)  # 输出维度: [batch_size, 32, 16, 16]\n",
    "        x = self.relu(x)\n",
    "        x = self.pool(x)   # 输出维度: [batch_size, 32, 8, 8]\n",
    "        \n",
    "        # 展平操作: [batch_size, 32 * 8 * 8]\n",
    "        x = x.view(-1, 32 * 8 * 8)\n",
    "        \n",
    "        # 全连接层1 → ReLU\n",
    "        x = self.fc1(x)    # 输出维度: [batch_size, 512]\n",
    "        x = self.relu(x)\n",
    "        \n",
    "        # 全连接层2（无激活函数，损失函数包含Softmax）\n",
    "        x = self.fc2(x)    # 输出维度: [batch_size, 10]\n",
    "        return x\n",
    "\n",
    "# 初始化模型、损失函数、优化器\n",
    "model = SimpleCNN()\n",
    "criterion = nn.CrossEntropyLoss()\n",
    "optimizer = torch.optim.Adam(model.parameters(), lr=learning_rate)\n",
    "\n",
    "# 训练循环\n",
    "total_step = len(train_loader)\n",
    "for epoch in range(num_epochs):\n",
    "    for i, (images, labels) in enumerate(train_loader):\n",
    "        # 前向传播\n",
    "        outputs = model(images)\n",
    "        loss = criterion(outputs, labels)\n",
    "        \n",
    "        # 反向传播与优化\n",
    "        optimizer.zero_grad()\n",
    "        loss.backward()\n",
    "        optimizer.step()\n",
    "        \n",
    "        if (i+1) % 100 == 0:\n",
    "            print(f'Epoch [{epoch+1}/{num_epochs}], Step [{i+1}/{total_step}], Loss: {loss.item():.4f}')\n",
    "\n",
    "# 测试模型\n",
    "model.eval()\n",
    "with torch.no_grad():\n",
    "    correct = 0\n",
    "    total = 0\n",
    "    for images, labels in test_loader:\n",
    "        outputs = model(images)\n",
    "        _, predicted = torch.max(outputs.data, 1)\n",
    "        total += labels.size(0)\n",
    "        correct += (predicted == labels).sum().item()\n",
    "\n",
    "    print(f'Test Accuracy: {100 * correct / total:.2f}%')"
   ],
   "metadata": {
    "collapsed": false,
    "ExecuteTime": {
     "end_time": "2025-04-06T09:01:23.125047Z",
     "start_time": "2025-04-06T08:59:27.528760Z"
    }
   },
   "id": "2cd96a95aba8ec66",
   "execution_count": 2
  }
 ],
 "metadata": {
  "kernelspec": {
   "display_name": "Python 3",
   "language": "python",
   "name": "python3"
  },
  "language_info": {
   "codemirror_mode": {
    "name": "ipython",
    "version": 2
   },
   "file_extension": ".py",
   "mimetype": "text/x-python",
   "name": "python",
   "nbconvert_exporter": "python",
   "pygments_lexer": "ipython2",
   "version": "2.7.6"
  }
 },
 "nbformat": 4,
 "nbformat_minor": 5
}
